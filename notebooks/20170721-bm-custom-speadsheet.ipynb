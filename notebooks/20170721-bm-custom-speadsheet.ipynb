{
 "cells": [
  {
   "cell_type": "code",
   "execution_count": 22,
   "metadata": {
    "collapsed": true
   },
   "outputs": [],
   "source": [
    "# -*- coding: utf-8 -*-\n",
    "%matplotlib inline\n",
    "\n",
    "import pandas as pd\n",
    "import numpy as np\n",
    "import math\n",
    "import matplotlib as mplstyle\n",
    "import matplotlib.pyplot as plt\n",
    "import locale\n",
    "import arrow\n",
    "from locale import atof\n",
    "from dateutil import parser\n",
    "from datetime import datetime"
   ]
  },
  {
   "cell_type": "markdown",
   "metadata": {},
   "source": [
    "### Functions"
   ]
  },
  {
   "cell_type": "code",
   "execution_count": 23,
   "metadata": {
    "collapsed": true
   },
   "outputs": [],
   "source": [
    "# Create custom column: checks if one exists, true else take other\n",
    "# check for ISO_A3\n",
    "# if empty check if adm0_dif is 1\n",
    "    # if 1 take gu_a3 \n",
    "    # if 0 take adm0_a3\n",
    "def mergeCol(isoa3,adm0dif,level,adm0a3,adm0a3is,gua3):\n",
    "    if (isoa3 != '-99'):\n",
    "        return isoa3\n",
    "    else:\n",
    "        if (adm0dif == 1 and level == 3):\n",
    "            if (adm0a3is != '-99'):\n",
    "                return adm0a3is\n",
    "            else:\n",
    "                return adm0a3\n",
    "        elif (adm0dif == 0 and level == 3):\n",
    "            return adm0a3\n",
    "        elif (adm0dif == 0 and level == 2):\n",
    "            try:\n",
    "                if (adm0a3is != '-99'):\n",
    "                    return adm0a3is\n",
    "            except:\n",
    "                return gua3"
   ]
  },
  {
   "cell_type": "markdown",
   "metadata": {},
   "source": [
    "### Imports"
   ]
  },
  {
   "cell_type": "code",
   "execution_count": 24,
   "metadata": {
    "collapsed": true
   },
   "outputs": [],
   "source": [
    "df_graphicExample = pd.read_csv('../data/imports/graphic-copy-sample.csv')\n",
    "df_completeCountryList = pd.read_csv('../data/exports/complete-country-list.csv')\n",
    "df_immunization = pd.read_csv('../data/exports/df_finalMergeClean.csv')"
   ]
  },
  {
   "cell_type": "markdown",
   "metadata": {},
   "source": [
    "### Analysis"
   ]
  },
  {
   "cell_type": "code",
   "execution_count": 25,
   "metadata": {},
   "outputs": [],
   "source": [
    "# Duplicate dataframe for analysis\n",
    "df_custCompleteCountryList = df_completeCountryList\n",
    "\n",
    "# Apply merCol function to check if ISO_A3, if not use GU_A3\n",
    "df_custCompleteCountryList['ISOA3_GUA3'] = np.vectorize(mergeCol)(df_completeCountryList['ISO_A3'],df_completeCountryList['ADM0_DIF'],df_completeCountryList['LEVEL'],df_completeCountryList['ADM0_A3'],df_completeCountryList['ADM0_A3_IS'],df_completeCountryList['GU_A3'])\n",
    "df_custCompleteCountryList = df_custCompleteCountryList.drop('Unnamed: 0', axis=1)\n",
    "df_custCompleteCountryList = df_custCompleteCountryList.rename(columns = {'NAME' : 'name'})"
   ]
  },
  {
   "cell_type": "code",
   "execution_count": 26,
   "metadata": {
    "collapsed": true
   },
   "outputs": [],
   "source": [
    "# Export custom complete country list\n",
    "df_custCompleteCountryList.to_csv('../data/exports/custom-complete-country-list.csv')"
   ]
  },
  {
   "cell_type": "code",
   "execution_count": 27,
   "metadata": {
    "collapsed": true
   },
   "outputs": [],
   "source": [
    "# prep immunization dataframe for merge\n",
    "df_immunization = df_immunization.rename(columns={'iso3':'ISOA3_GUA3'}).drop('Unnamed: 0', axis=1)"
   ]
  },
  {
   "cell_type": "code",
   "execution_count": 28,
   "metadata": {},
   "outputs": [],
   "source": [
    "# Merge natural earth and immunization\n",
    "df_custCountryImmunization = df_custCompleteCountryList.merge(df_immunization,on='ISOA3_GUA3',how='outer')\n",
    "df_custCountryImmunization\n",
    "df_immunizationExport = df_custCountryImmunization[np.isfinite(df_custCountryImmunization['DTP1-16'])]\n",
    "df_immunizationExport['ISOA3_GUA3'].nunique()\n",
    "df_immunizationExport.to_csv('../data/exports/df_immunizationExport.csv')\n",
    "# df_immunizationExport[df_immunizationExport['ISOA3_GUA3'] == 'PSE']"
   ]
  },
  {
   "cell_type": "code",
   "execution_count": 29,
   "metadata": {},
   "outputs": [
    {
     "data": {
      "text/plain": [
       "1                   Antigua\n",
       "2                   Barbuda\n",
       "3               Afghanistan\n",
       "4                    Angola\n",
       "6                   Albania\n",
       "8                   Andorra\n",
       "9      United Arab Emirates\n",
       "10                Argentina\n",
       "11                  Armenia\n",
       "27                Australia\n",
       "28                  Austria\n",
       "29               Azerbaijan\n",
       "30                 Brussels\n",
       "31                  Flemish\n",
       "32                  Walloon\n",
       "33                  Burundi\n",
       "34                    Benin\n",
       "35             Burkina Faso\n",
       "36               Bangladesh\n",
       "37                 Bulgaria\n",
       "38           Brcko District\n",
       "39     Fed. of Bos. & Herz.\n",
       "40              Rep. Srpska\n",
       "41                  Bahrain\n",
       "42                  Bahamas\n",
       "44                  Belarus\n",
       "45                   Belize\n",
       "47                  Bolivia\n",
       "49                   Brazil\n",
       "50                 Barbados\n",
       "               ...         \n",
       "257              Seychelles\n",
       "258              UNDOF Zone\n",
       "259                   Syria\n",
       "261                    Chad\n",
       "262                    Togo\n",
       "263                Thailand\n",
       "264              Tajikistan\n",
       "266            Turkmenistan\n",
       "267             Timor-Leste\n",
       "268                   Tonga\n",
       "269     Trinidad and Tobago\n",
       "270                 Tunisia\n",
       "271                  Turkey\n",
       "272                  Tuvalu\n",
       "274                Tanzania\n",
       "275                Zanzibar\n",
       "276                  Uganda\n",
       "277                 Ukraine\n",
       "278                 Uruguay\n",
       "279           United States\n",
       "280              Uzbekistan\n",
       "282      St. Vin. and Gren.\n",
       "283               Venezuela\n",
       "286                 Vietnam\n",
       "287                 Vanuatu\n",
       "290                   Samoa\n",
       "291                   Yemen\n",
       "292            South Africa\n",
       "293                  Zambia\n",
       "294                Zimbabwe\n",
       "Name: name, dtype: object"
      ]
     },
     "execution_count": 29,
     "metadata": {},
     "output_type": "execute_result"
    }
   ],
   "source": [
    "df_immunizationExport['name']"
   ]
  },
  {
   "cell_type": "code",
   "execution_count": 30,
   "metadata": {},
   "outputs": [],
   "source": [
    "df_graphicNoData = df_graphicExample.drop(['amt', 'amt_refugee'], axis = 1)"
   ]
  },
  {
   "cell_type": "code",
   "execution_count": 31,
   "metadata": {},
   "outputs": [
    {
     "data": {
      "text/plain": [
       "['name', 'name_abbrev', 'id', 'lat', 'lon']"
      ]
     },
     "execution_count": 31,
     "metadata": {},
     "output_type": "execute_result"
    }
   ],
   "source": [
    "list(df_graphicNoData)"
   ]
  },
  {
   "cell_type": "code",
   "execution_count": 38,
   "metadata": {},
   "outputs": [],
   "source": [
    "df_graphicData = df_graphicNoData.merge(df_immunizationExport, on='name', how = 'outer')\n",
    "df_graphicData.to_csv('../data/exports/final_export.csv')"
   ]
  },
  {
   "cell_type": "code",
   "execution_count": null,
   "metadata": {
    "collapsed": true
   },
   "outputs": [],
   "source": []
  }
 ],
 "metadata": {
  "kernelspec": {
   "display_name": "Python 2",
   "language": "python",
   "name": "python2"
  },
  "language_info": {
   "codemirror_mode": {
    "name": "ipython",
    "version": 2
   },
   "file_extension": ".py",
   "mimetype": "text/x-python",
   "name": "python",
   "nbconvert_exporter": "python",
   "pygments_lexer": "ipython2",
   "version": "2.7.13"
  }
 },
 "nbformat": 4,
 "nbformat_minor": 2
}
